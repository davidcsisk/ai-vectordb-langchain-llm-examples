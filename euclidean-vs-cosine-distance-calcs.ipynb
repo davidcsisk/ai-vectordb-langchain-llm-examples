{
 "cells": [
  {
   "cell_type": "code",
   "execution_count": 2,
   "metadata": {},
   "outputs": [
    {
     "name": "stdout",
     "output_type": "stream",
     "text": [
      "euclidean_dist_easy:  2.8284271247461903\n",
      "euclidean_distance_manual:  2.8284271247461903\n",
      "cosine_dist_easy:  0.2600599266040563\n",
      "cosine_dist_manual:  0.2600599266040562\n"
     ]
    }
   ],
   "source": [
    "import numpy\n",
    "from scipy import spatial\n",
    "import math\n",
    "\n",
    "book_A = numpy.array([2, 3])\n",
    "book_B = numpy.array([4, 1])\n",
    "\n",
    "book_A = numpy.array([2, 3])\n",
    "book_B = numpy.array([4, 1])\n",
    "\n",
    "# ---- Easy Solution ----\n",
    "euclidean_dist_easy = spatial.distance.euclidean(book_A, book_B)\n",
    "print('euclidean_dist_easy: ', euclidean_dist_easy)\n",
    "\n",
    "# ---- Manual Solution ----\n",
    "# Sum together all distances squared (pythagoras)\n",
    "sum_of_squared_distances = numpy.dot(book_A_B, book_A_B)\n",
    "# Find distance\n",
    "euclidean_dist_manual = math.sqrt(sum_of_squared_distances)\n",
    "print('euclidean_distance_manual: ', euclidean_dist_manual)\n",
    "\n",
    "# ---- Easy Solution ----\n",
    "cosine_dist_easy = spatial.distance.cosine(book_A, book_B)\n",
    "print('cosine_dist_easy: ', cosine_dist_easy)\n",
    "\n",
    "# ---- Manuel Solution ----\n",
    "# Dot product between vectors\n",
    "product_AB = numpy.dot(book_A, book_B)\n",
    "# Length of vectors\n",
    "book_A_length = numpy.linalg.norm(book_A,2)\n",
    "book_B_length = numpy.linalg.norm(book_B,2)\n",
    "# Similarity measures by cosine distance\n",
    "cosine_dist_manual = 1 - (product_AB / (book_A_length * book_B_length))\n",
    "print('cosine_dist_manual: ', cosine_dist_manual)"
   ]
  }
 ],
 "metadata": {
  "kernelspec": {
   "display_name": "Python 3",
   "language": "python",
   "name": "python3"
  },
  "language_info": {
   "codemirror_mode": {
    "name": "ipython",
    "version": 3
   },
   "file_extension": ".py",
   "mimetype": "text/x-python",
   "name": "python",
   "nbconvert_exporter": "python",
   "pygments_lexer": "ipython3",
   "version": "3.11.6"
  }
 },
 "nbformat": 4,
 "nbformat_minor": 2
}
